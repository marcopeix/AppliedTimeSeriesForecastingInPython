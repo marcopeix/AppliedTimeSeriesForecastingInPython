{
 "cells": [
  {
   "cell_type": "markdown",
   "id": "97028d03-7b22-4beb-9ea8-f5f5ccc69337",
   "metadata": {},
   "source": [
    "# Forecasting with Machine Learning"
   ]
  },
  {
   "cell_type": "code",
   "execution_count": null,
   "id": "6f409652-7d71-481a-8c8b-30e77b3d8acc",
   "metadata": {},
   "outputs": [],
   "source": [
    "import numpy as np\n",
    "import pandas as pd\n",
    "import matplotlib.pyplot as plt\n",
    "\n",
    "from utilsforecast.plotting import plot_series\n",
    "from utilsforecast.evaluation import evaluate\n",
    "from utilsforecast.losses import *\n",
    "\n",
    "from functools import partial\n",
    "\n",
    "import warnings\n",
    "warnings.filterwarnings(\"ignore\")"
   ]
  },
  {
   "cell_type": "code",
   "execution_count": null,
   "id": "602b718e-2c86-414d-8028-d21b5360fb95",
   "metadata": {},
   "outputs": [],
   "source": [
    "def plot_metrics_bar(eval_df):\n",
    "    methods = eval_df.columns[1:]\n",
    "    values = eval_df.iloc[0].values[1:]\n",
    "    \n",
    "    sorted_data = sorted(zip(methods, values), key=lambda x: x[1], reverse=True)\n",
    "    methods_sorted, values_sorted = zip(*sorted_data)\n",
    "    \n",
    "    plt.figure(figsize=(10, 6))\n",
    "    bars = plt.bar(methods_sorted, values_sorted)\n",
    "    \n",
    "    for bar, value in zip(bars, values_sorted):\n",
    "        plt.text(bar.get_x() + bar.get_width()/2, bar.get_height() + 0.05, \n",
    "                 f'{value:.3f}', ha='center', va='bottom', fontweight='bold')\n",
    "    \n",
    "    plt.xlabel('Methods')\n",
    "    plt.ylabel('Mean absolute error (MAE)')\n",
    "    plt.tight_layout()\n",
    "    \n",
    "    plt.show()"
   ]
  },
  {
   "cell_type": "code",
   "execution_count": null,
   "id": "fa36742c-6a60-4741-8318-77cf6e56b6bb",
   "metadata": {},
   "outputs": [],
   "source": [
    "data_url = \"https://raw.githubusercontent.com/marcopeix/youtube_tutorials/refs/heads/main/data/daily_sales_french_bakery.csv\"\n",
    "df = pd.read_csv(data_url, parse_dates=[\"ds\"])\n",
    "df = df.groupby('unique_id').filter(lambda x: len(x) >= 28)\n",
    "df.head()"
   ]
  },
  {
   "cell_type": "code",
   "execution_count": null,
   "id": "c8f830b1-1b03-487b-8d63-a82d6f35f773",
   "metadata": {},
   "outputs": [],
   "source": [
    "plot_series(df=df, ids=[\"BAGUETTE\", \"CROISSANT\"], palette=\"viridis\")"
   ]
  },
  {
   "cell_type": "code",
   "execution_count": null,
   "id": "c22d3898-e0a0-48d9-bf05-1c9b0f3ddde1",
   "metadata": {},
   "outputs": [],
   "source": [
    "plot_series(df=df, ids=[\"BAGUETTE\", \"CROISSANT\"], max_insample_length=56, palette=\"viridis\")"
   ]
  },
  {
   "cell_type": "markdown",
   "id": "ec7ea922-3684-4e5b-9c20-9366a0f752e9",
   "metadata": {},
   "source": [
    "## Baseline model"
   ]
  },
  {
   "cell_type": "code",
   "execution_count": null,
   "id": "b8594408-f87a-4c7e-8b9d-01b408403864",
   "metadata": {},
   "outputs": [],
   "source": [
    "from statsforecast import StatsForecast\n",
    "from statsforecast.models import SeasonalNaive"
   ]
  },
  {
   "cell_type": "code",
   "execution_count": null,
   "id": "c1f6fecc-55ef-4d1c-be9a-903cb694dcd3",
   "metadata": {},
   "outputs": [],
   "source": [
    "horizon = 7"
   ]
  },
  {
   "cell_type": "code",
   "execution_count": null,
   "id": "6c954a07-e921-4e03-a471-621e38ffca74",
   "metadata": {},
   "outputs": [],
   "source": [
    "unique_ids = [\"BAGUETTE\", \"CROISSANT\"]\n",
    "small_df = df[df[\"unique_id\"].isin(unique_ids)]\n",
    "\n",
    "models = [\n",
    "    SeasonalNaive(season_length=7),\n",
    "]\n",
    "\n",
    "sf = StatsForecast(models=models, freq=\"D\")\n",
    "baseline_cv_df = sf.cross_validation(\n",
    "    h=horizon,\n",
    "    df=small_df,\n",
    "    n_windows=8,\n",
    "    step_size=horizon,\n",
    "    refit=True\n",
    ")\n",
    "\n",
    "temp_test = small_df.groupby(\"unique_id\").tail(7*8)\n",
    "eval_train_df = small_df.drop(temp_test.index).reset_index(drop=True)\n",
    "\n",
    "evaluation = evaluate(\n",
    "    baseline_cv_df.drop([\"cutoff\"], axis=1),\n",
    "    metrics=[mae, partial(mase, seasonality=7)],\n",
    "    train_df = eval_train_df\n",
    ")\n",
    "evaluation = evaluation.drop(['unique_id'], axis=1).groupby('metric').mean().reset_index()\n",
    "evaluation"
   ]
  },
  {
   "cell_type": "markdown",
   "id": "0e6e1bcf-3d5f-4dea-8121-676677e19982",
   "metadata": {},
   "source": [
    "## Machine learning models"
   ]
  },
  {
   "cell_type": "code",
   "execution_count": null,
   "id": "3f522ae7-27fd-475b-b4e8-279fb3fc4509",
   "metadata": {},
   "outputs": [],
   "source": [
    "from mlforecast import MLForecast\n",
    "\n",
    "import lightgbm as lgb\n",
    "from sklearn.linear_model import Lasso, LinearRegression, Ridge\n",
    "from sklearn.neighbors import KNeighborsRegressor\n",
    "from sklearn.ensemble import GradientBoostingRegressor"
   ]
  },
  {
   "cell_type": "code",
   "execution_count": null,
   "id": "ef6ade43-9afd-4865-92be-59fa3a5755c3",
   "metadata": {},
   "outputs": [],
   "source": [
    "models ={\n",
    "    'lgbm': lgb.LGBMRegressor(verbosity=-1),\n",
    "    'lasso': Lasso(),\n",
    "    'lin_reg': LinearRegression(),\n",
    "    'ridge': Ridge(),\n",
    "    'knn': KNeighborsRegressor(),\n",
    "    'gbr': GradientBoostingRegressor()\n",
    "}"
   ]
  },
  {
   "cell_type": "markdown",
   "id": "bac51164-dc58-47cb-8892-6e18a1e8cda1",
   "metadata": {},
   "source": [
    "### Building features\n",
    "#### Lags"
   ]
  },
  {
   "cell_type": "code",
   "execution_count": null,
   "id": "dd455a98-315c-40f3-8ae1-05d3c750542b",
   "metadata": {},
   "outputs": [],
   "source": []
  },
  {
   "cell_type": "code",
   "execution_count": null,
   "id": "c3a4fd47-4178-4e5c-9b29-91adf39e6b3c",
   "metadata": {},
   "outputs": [],
   "source": []
  },
  {
   "cell_type": "code",
   "execution_count": null,
   "id": "1f731545-ab16-400a-910e-4270c191e209",
   "metadata": {},
   "outputs": [],
   "source": []
  },
  {
   "cell_type": "code",
   "execution_count": null,
   "id": "3a8d9470-1200-43e2-929e-c675e56d2a7b",
   "metadata": {},
   "outputs": [],
   "source": []
  },
  {
   "cell_type": "code",
   "execution_count": null,
   "id": "a82e977d-c6fc-4bcb-8ee9-f0d14946659a",
   "metadata": {},
   "outputs": [],
   "source": []
  },
  {
   "cell_type": "code",
   "execution_count": null,
   "id": "00424e7c-97c8-4d68-a222-f548aa066dc0",
   "metadata": {},
   "outputs": [],
   "source": [
    "plot_series(\n",
    "    df=small_df, \n",
    "    forecasts_df=full_eval_df.drop([\"y\", \"cutoff\"], axis=1), \n",
    "    ids=[\"BAGUETTE\", \"CROISSANT\"], \n",
    "    models=[\"lgbm\", \"knn\"],\n",
    "    max_insample_length=140,\n",
    "    palette=\"viridis\"\n",
    ")"
   ]
  },
  {
   "cell_type": "markdown",
   "id": "1614ff95-0e72-41d4-8bea-cf4a1777fe05",
   "metadata": {},
   "source": [
    "#### Lag transformations"
   ]
  },
  {
   "cell_type": "code",
   "execution_count": null,
   "id": "35eef86d-1d49-4e9f-8624-f9893fdfcc86",
   "metadata": {},
   "outputs": [],
   "source": [
    "from mlforecast.lag_transforms import RollingMean, ExpandingMean"
   ]
  },
  {
   "cell_type": "code",
   "execution_count": null,
   "id": "ab79e665-bfe1-414e-941a-49be94c865b3",
   "metadata": {},
   "outputs": [],
   "source": []
  },
  {
   "cell_type": "code",
   "execution_count": null,
   "id": "6607c525-187f-4fea-9bc1-ba5404c6842d",
   "metadata": {},
   "outputs": [],
   "source": [
    "ml_cv_df = mlf.cross_validation(\n",
    "    df=small_df,\n",
    "    h=horizon,\n",
    "    n_windows=8,\n",
    "    step_size=horizon,\n",
    "    refit=False,\n",
    "    static_features=[]\n",
    ")\n",
    "\n",
    "full_eval_df = baseline_cv_df.merge(ml_cv_df.drop([\"cutoff\", \"y\"], axis=1), \"left\", [\"unique_id\", \"ds\"])\n",
    "\n",
    "full_evaluation = evaluate(\n",
    "    full_eval_df.drop([\"cutoff\"], axis=1),\n",
    "    metrics=[mae, partial(mase, seasonality=7)],\n",
    "    train_df = eval_train_df\n",
    ")\n",
    "full_evaluation = full_evaluation.drop(['unique_id'], axis=1).groupby('metric').mean().reset_index()\n",
    "full_evaluation"
   ]
  },
  {
   "cell_type": "code",
   "execution_count": null,
   "id": "decb1f01-bb84-4a27-8c13-e6f9adb630af",
   "metadata": {},
   "outputs": [],
   "source": [
    "plot_metrics_bar(full_evaluation)"
   ]
  },
  {
   "cell_type": "code",
   "execution_count": null,
   "id": "0bc2315d-bb7a-4f38-bd2c-307aa443ae4f",
   "metadata": {},
   "outputs": [],
   "source": [
    "plot_series(\n",
    "    df=small_df, \n",
    "    forecasts_df=full_eval_df.drop([\"y\", \"cutoff\"], axis=1), \n",
    "    ids=[\"BAGUETTE\", \"CROISSANT\"], \n",
    "    models=[\"gbr\", \"lasso\"],\n",
    "    max_insample_length=140,\n",
    "    palette=\"viridis\"\n",
    ")"
   ]
  },
  {
   "cell_type": "markdown",
   "id": "cda723c0-1612-4c2e-9ceb-904bbfaa3a72",
   "metadata": {},
   "source": [
    "#### Date features"
   ]
  },
  {
   "cell_type": "code",
   "execution_count": null,
   "id": "4572b688-89dc-49da-b279-3376a47044e6",
   "metadata": {},
   "outputs": [],
   "source": []
  },
  {
   "cell_type": "code",
   "execution_count": null,
   "id": "3f48c02c-a5f9-40f3-84c7-58fa4d2bb7ce",
   "metadata": {},
   "outputs": [],
   "source": [
    "ml_cv_df = mlf.cross_validation(\n",
    "    df=small_df,\n",
    "    h=horizon,\n",
    "    n_windows=8,\n",
    "    step_size=horizon,\n",
    "    refit=False,\n",
    "    static_features=[]\n",
    ")\n",
    "\n",
    "full_eval_df = baseline_cv_df.merge(ml_cv_df.drop([\"cutoff\", \"y\"], axis=1), \"left\", [\"unique_id\", \"ds\"])\n",
    "\n",
    "full_evaluation = evaluate(\n",
    "    full_eval_df.drop([\"cutoff\"], axis=1),\n",
    "    metrics=[mae, partial(mase, seasonality=7)],\n",
    "    train_df = eval_train_df\n",
    ")\n",
    "full_evaluation = full_evaluation.drop(['unique_id'], axis=1).groupby('metric').mean().reset_index()\n",
    "full_evaluation"
   ]
  },
  {
   "cell_type": "code",
   "execution_count": null,
   "id": "d2854aac-2ded-42a9-a5c4-28b726bb70e0",
   "metadata": {},
   "outputs": [],
   "source": [
    "plot_metrics_bar(full_evaluation)"
   ]
  },
  {
   "cell_type": "markdown",
   "id": "efb7f257-c2c0-4046-b5db-7f6e32fec590",
   "metadata": {},
   "source": [
    "#### Target transformations"
   ]
  },
  {
   "cell_type": "code",
   "execution_count": null,
   "id": "8b93d73c-a189-4746-bebf-482a23abd899",
   "metadata": {},
   "outputs": [],
   "source": [
    "from mlforecast.target_transforms import Differences"
   ]
  },
  {
   "cell_type": "code",
   "execution_count": null,
   "id": "a91c57d1-4d39-4e71-880b-6aafdbdc71f5",
   "metadata": {},
   "outputs": [],
   "source": []
  },
  {
   "cell_type": "code",
   "execution_count": null,
   "id": "fc83667c-54fa-44ca-914a-f86f9f956efc",
   "metadata": {},
   "outputs": [],
   "source": [
    "ml_cv_df = mlf.cross_validation(\n",
    "    df=small_df,\n",
    "    h=horizon,\n",
    "    n_windows=8,\n",
    "    step_size=horizon,\n",
    "    refit=False,\n",
    "    static_features=[]\n",
    ")\n",
    "\n",
    "full_eval_df = baseline_cv_df.merge(ml_cv_df.drop([\"cutoff\", \"y\"], axis=1), \"left\", [\"unique_id\", \"ds\"])\n",
    "\n",
    "full_evaluation = evaluate(\n",
    "    full_eval_df.drop([\"cutoff\"], axis=1),\n",
    "    metrics=[mae, partial(mase, seasonality=7)],\n",
    "    train_df = eval_train_df\n",
    ")\n",
    "full_evaluation = full_evaluation.drop(['unique_id'], axis=1).groupby('metric').mean().reset_index()\n",
    "full_evaluation"
   ]
  },
  {
   "cell_type": "code",
   "execution_count": null,
   "id": "9233c48c-d3ff-4c83-b416-d4ebffb201ea",
   "metadata": {},
   "outputs": [],
   "source": [
    "plot_metrics_bar(full_evaluation)"
   ]
  },
  {
   "cell_type": "code",
   "execution_count": null,
   "id": "21f8b2ee-115b-472d-9848-ffcee370e11c",
   "metadata": {},
   "outputs": [],
   "source": [
    "from scipy.fftpack import fft, fftfreq\n",
    "\n",
    "def analyze_frequencies(signal, sampling_rate):\n",
    "    signal = signal.values\n",
    "    n = len(signal)\n",
    "    fft_values = fft(signal)\n",
    "\n",
    "    freq = fftfreq(n, 1/sampling_rate)\n",
    "    \n",
    "    positive_freq_idx = np.arange(1, n//2)\n",
    "    frequencies = freq[positive_freq_idx]\n",
    "    amplitudes = 2.0/n * np.abs(fft_values[positive_freq_idx])\n",
    "    \n",
    "    top_indices = np.argsort(amplitudes)[-5:][::-1]\n",
    "    \n",
    "    top_frequencies = frequencies[top_indices]\n",
    "    top_amplitudes = amplitudes[top_indices]\n",
    "    \n",
    "    return top_frequencies, top_amplitudes"
   ]
  },
  {
   "cell_type": "code",
   "execution_count": null,
   "id": "16414fb2-e08a-4cba-ba46-5219b7c0a6ac",
   "metadata": {},
   "outputs": [],
   "source": []
  },
  {
   "cell_type": "code",
   "execution_count": null,
   "id": "c59555bd-115b-42b1-b08f-902218358cac",
   "metadata": {},
   "outputs": [],
   "source": []
  },
  {
   "cell_type": "markdown",
   "id": "362e128c-dbc2-4c3b-92fb-e484257ffd9d",
   "metadata": {},
   "source": [
    "### Prediction intervals"
   ]
  },
  {
   "cell_type": "code",
   "execution_count": null,
   "id": "ec1bf1b7-54d1-44fa-b897-a617d7f958bb",
   "metadata": {},
   "outputs": [],
   "source": [
    "from mlforecast.utils import PredictionIntervals"
   ]
  },
  {
   "cell_type": "code",
   "execution_count": null,
   "id": "b6f5520e-0bed-4728-93db-c35c1050f554",
   "metadata": {},
   "outputs": [],
   "source": [
    "# Select ML models\n",
    "\n",
    "\n",
    "# Initialize MLForecast\n",
    "\n",
    "\n",
    "# Run cross-validation\n",
    "\n",
    "\n",
    "ml_prob_cv_df.head()"
   ]
  },
  {
   "cell_type": "code",
   "execution_count": null,
   "id": "a7f94fe5-bd87-4ecf-ba3c-c87cd2f82383",
   "metadata": {},
   "outputs": [],
   "source": [
    "models = [\"ridge\", \"lasso\"]\n",
    "metrics = [\n",
    "    scaled_crps\n",
    "]\n",
    "\n",
    "evaluation = evaluate(\n",
    "    ml_prob_cv_df.drop([\"ds\", \"cutoff\"], axis=1),\n",
    "    metrics=metrics,\n",
    "    models=models,\n",
    "    level=[80]\n",
    ")\n",
    "evaluation = evaluation.drop(['unique_id'], axis=1).groupby('metric').mean().reset_index()\n",
    "evaluation"
   ]
  },
  {
   "cell_type": "code",
   "execution_count": null,
   "id": "01a61d66-27a0-4c65-ac4f-8e2796844b95",
   "metadata": {},
   "outputs": [],
   "source": [
    "plot_series(\n",
    "    df=small_df, \n",
    "    forecasts_df=ml_prob_cv_df.drop([\"y\", \"cutoff\"], axis=1), \n",
    "    ids=[\"BAGUETTE\", \"CROISSANT\"], \n",
    "    models=[\"ridge\"],\n",
    "    max_insample_length=140,\n",
    "    level=[80],\n",
    "    palette=\"viridis\"\n",
    ")"
   ]
  },
  {
   "cell_type": "markdown",
   "id": "fd7b740e-47cc-488d-86d4-be585b3ff09d",
   "metadata": {},
   "source": [
    "### One model per step in the horizon"
   ]
  },
  {
   "cell_type": "code",
   "execution_count": null,
   "id": "a9151418-6bd8-41b0-9a55-e3b9cd72f63d",
   "metadata": {},
   "outputs": [],
   "source": [
    "# Run cross-validation\n",
    "\n",
    "\n",
    "full_eval_df = baseline_cv_df.merge(ml_cv_df.drop([\"cutoff\", \"y\"], axis=1), \"left\", [\"unique_id\", \"ds\"])\n",
    "\n",
    "full_evaluation = evaluate(\n",
    "    full_eval_df.drop([\"cutoff\"], axis=1),\n",
    "    metrics=[mae, partial(mase, seasonality=7)],\n",
    "    train_df = eval_train_df\n",
    ")\n",
    "full_evaluation = full_evaluation.drop(['unique_id'], axis=1).groupby('metric').mean().reset_index()\n",
    "full_evaluation"
   ]
  },
  {
   "cell_type": "code",
   "execution_count": null,
   "id": "bce9be92-1919-4a86-bbbe-6c57e71f51e4",
   "metadata": {},
   "outputs": [],
   "source": [
    "plot_metrics_bar(full_evaluation)"
   ]
  },
  {
   "cell_type": "markdown",
   "id": "d91dcf83-1a72-47c1-a579-397e76b7b118",
   "metadata": {},
   "source": [
    "## Hyperparameter optimization\n",
    "### Tuning the model"
   ]
  },
  {
   "cell_type": "code",
   "execution_count": null,
   "id": "686d14a9-feaf-4301-9f0d-584cd7f19062",
   "metadata": {},
   "outputs": [],
   "source": [
    "import optuna\n",
    "from mlforecast.auto import AutoMLForecast, AutoLasso"
   ]
  },
  {
   "cell_type": "code",
   "execution_count": null,
   "id": "c47a3026-29c1-49a3-8224-1d0210b622d0",
   "metadata": {},
   "outputs": [],
   "source": [
    "# init config\n",
    "\n",
    "\n",
    "# fit config\n",
    "\n",
    "\n",
    "# Initialize AutoMLForecast\n",
    "\n",
    "\n",
    "# Fit\n",
    "auto_mlf.fit(\n",
    "    df=small_df,\n",
    "    n_windows=8,\n",
    "    h=horizon,\n",
    "    step_size=horizon,\n",
    "    num_samples=10\n",
    ")"
   ]
  },
  {
   "cell_type": "code",
   "execution_count": null,
   "id": "6807a8de-da99-473a-968a-016b4dc580ea",
   "metadata": {},
   "outputs": [],
   "source": []
  },
  {
   "cell_type": "code",
   "execution_count": null,
   "id": "65a513ee-6c0f-4d9a-9078-a81649ba3261",
   "metadata": {},
   "outputs": [],
   "source": [
    "optimized_lasso_config =  auto_mlf.results_['auto_lasso'].best_trial.user_attrs['config']['model_params']\n",
    "\n",
    "mlf = MLForecast(\n",
    "    models={\n",
    "        \"default_lasso\": Lasso(),\n",
    "        \"optimized_lasso\": Lasso(**optimized_lasso_config)\n",
    "    },\n",
    "    freq='D',\n",
    "    lags=range(1,8),\n",
    "    lag_transforms={\n",
    "        1: [ExpandingMean()],\n",
    "        7: [RollingMean(window_size=7)]\n",
    "    }\n",
    ")\n",
    "\n",
    "ml_cv_df = mlf.cross_validation(\n",
    "    df=small_df,\n",
    "    h=horizon,\n",
    "    n_windows=8,\n",
    "    step_size=horizon,\n",
    "    refit=False,\n",
    "    static_features=[]\n",
    ")\n",
    "\n",
    "full_eval_df = baseline_cv_df.merge(ml_cv_df.drop([\"cutoff\", \"y\"], axis=1), \"left\", [\"unique_id\", \"ds\"])\n",
    "\n",
    "full_evaluation = evaluate(\n",
    "    full_eval_df.drop([\"cutoff\"], axis=1),\n",
    "    metrics=[mae, partial(mase, seasonality=7)],\n",
    "    train_df = eval_train_df\n",
    ")\n",
    "full_evaluation = full_evaluation.drop(['unique_id'], axis=1).groupby('metric').mean().reset_index()\n",
    "full_evaluation"
   ]
  },
  {
   "cell_type": "markdown",
   "id": "93cd38ef-9e47-4b0b-b80e-f35ddc59416b",
   "metadata": {},
   "source": [
    "### Tuning the features"
   ]
  },
  {
   "cell_type": "code",
   "execution_count": null,
   "id": "da161fc4-d3b0-4fc9-bb7d-34f32266c18f",
   "metadata": {},
   "outputs": [],
   "source": [
    "from mlforecast.lag_transforms import ExpandingStd"
   ]
  },
  {
   "cell_type": "code",
   "execution_count": null,
   "id": "64a100a7-fbf2-4b0c-b985-b7e7b70a358a",
   "metadata": {},
   "outputs": [],
   "source": [
    "# init config\n",
    "\n",
    "\n",
    "def fit_config(trial):\n",
    "    return {\n",
    "        \"static_features\": []\n",
    "    }\n",
    "\n",
    "auto_mlf = AutoMLForecast(\n",
    "    models={\"auto_lasso\": AutoLasso()},\n",
    "    freq='D',\n",
    "    init_config=tune_init_config,\n",
    "    fit_config=fit_config\n",
    ")\n",
    "\n",
    "auto_mlf.fit(\n",
    "    df=small_df,\n",
    "    n_windows=8,\n",
    "    h=horizon,\n",
    "    step_size=horizon,\n",
    "    num_samples=15\n",
    ")"
   ]
  },
  {
   "cell_type": "code",
   "execution_count": null,
   "id": "872a478c-2780-4ee7-b74b-4d259fffc2e8",
   "metadata": {},
   "outputs": [],
   "source": [
    "auto_mlf.results_['auto_lasso'].best_trial.user_attrs['config']"
   ]
  },
  {
   "cell_type": "code",
   "execution_count": null,
   "id": "025eaba3-8d16-489d-bbd9-c98d7ede49a2",
   "metadata": {},
   "outputs": [],
   "source": [
    "optimized_lasso_config =  auto_mlf.results_['auto_lasso'].best_trial.user_attrs['config']['model_params']\n",
    "optimized_feats = auto_mlf.results_['auto_lasso'].best_trial.user_attrs['config']['mlf_init_params']\n",
    "\n",
    "mlf = MLForecast(\n",
    "    models={\n",
    "        \"default_lasso\": Lasso(),\n",
    "        \"optimized_lasso\": Lasso(**optimized_lasso_config)\n",
    "    },\n",
    "    freq='D',\n",
    "    **optimized_feats\n",
    ")\n",
    "\n",
    "ml_cv_df = mlf.cross_validation(\n",
    "    df=small_df,\n",
    "    h=horizon,\n",
    "    n_windows=8,\n",
    "    step_size=horizon,\n",
    "    refit=False,\n",
    "    static_features=[]\n",
    ")\n",
    "\n",
    "full_eval_df = baseline_cv_df.merge(ml_cv_df.drop([\"cutoff\", \"y\"], axis=1), \"left\", [\"unique_id\", \"ds\"])\n",
    "\n",
    "full_evaluation = evaluate(\n",
    "    full_eval_df.drop([\"cutoff\"], axis=1),\n",
    "    metrics=[mae, partial(mase, seasonality=7)],\n",
    "    train_df = eval_train_df\n",
    ")\n",
    "full_evaluation = full_evaluation.drop(['unique_id'], axis=1).groupby('metric').mean().reset_index()\n",
    "full_evaluation"
   ]
  },
  {
   "cell_type": "code",
   "execution_count": null,
   "id": "de62da93-8500-4489-aef5-aadba6d90709",
   "metadata": {},
   "outputs": [],
   "source": []
  }
 ],
 "metadata": {
  "kernelspec": {
   "display_name": "Python 3 (ipykernel)",
   "language": "python",
   "name": "python3"
  },
  "language_info": {
   "codemirror_mode": {
    "name": "ipython",
    "version": 3
   },
   "file_extension": ".py",
   "mimetype": "text/x-python",
   "name": "python",
   "nbconvert_exporter": "python",
   "pygments_lexer": "ipython3",
   "version": "3.12.10"
  }
 },
 "nbformat": 4,
 "nbformat_minor": 5
}
