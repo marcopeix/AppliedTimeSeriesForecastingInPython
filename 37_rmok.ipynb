{
 "cells": [
  {
   "cell_type": "code",
   "execution_count": 1,
   "id": "658a009d-142b-449c-aabd-2bf20f9d3242",
   "metadata": {},
   "outputs": [
    {
     "name": "stderr",
     "output_type": "stream",
     "text": [
      "D:\\Anaconda\\envs\\neuralforecast-env\\lib\\site-packages\\tqdm\\auto.py:21: TqdmWarning: IProgress not found. Please update jupyter and ipywidgets. See https://ipywidgets.readthedocs.io/en/stable/user_install.html\n",
      "  from .autonotebook import tqdm as notebook_tqdm\n"
     ]
    }
   ],
   "source": [
    "import pandas as pd\n",
    "import numpy as np\n",
    "import matplotlib.pyplot as plt\n",
    "\n",
    "from datasetsforecast.long_horizon import LongHorizon\n",
    "\n",
    "from neuralforecast.core import NeuralForecast\n",
    "from neuralforecast.models import NHITS, RMoK, TSMixer\n",
    "\n",
    "from utilsforecast.losses import mae, mse\n",
    "from utilsforecast.evaluation import evaluate"
   ]
  },
  {
   "cell_type": "code",
   "execution_count": null,
   "id": "77aa7736-8e70-4f5a-af06-34d842141cc3",
   "metadata": {},
   "outputs": [],
   "source": [
    "def load_data(name):\n",
    "    if name == \"ettm1\":\n",
    "        Y_df, *_ = LongHorizon.load(directory='./', group='ETTm1')\n",
    "        Y_df['ds'] = pd.to_datetime(Y_df['ds'])\n",
    "        val_size = 11520\n",
    "        test_size = 11520\n",
    "        freq = '15T'\n",
    "    elif name == \"ettm2\":\n",
    "        Y_df, *_ = LongHorizon.load(directory='./', group='ETTm2')\n",
    "        Y_df['ds'] = pd.to_datetime(Y_df['ds'])\n",
    "        val_size = 11520\n",
    "        test_size = 11520\n",
    "        freq = '15T'\n",
    "    elif name == 'etth1':\n",
    "        Y_df, *_ = LongHorizon.load(directory='./', group='ETTh1')\n",
    "        Y_df['ds'] = pd.to_datetime(Y_df['ds'])\n",
    "        val_size = 2880\n",
    "        test_size = 2880\n",
    "        freq = 'H'\n",
    "    elif name == \"etth2\":\n",
    "        Y_df, *_ = LongHorizon.load(directory='./', group='ETTh2')\n",
    "        Y_df['ds'] = pd.to_datetime(Y_df['ds'])\n",
    "        val_size = 2880\n",
    "        test_size = 2880\n",
    "        freq = 'H'\n",
    "\n",
    "    return Y_df, val_size, test_size, freq"
   ]
  },
  {
   "cell_type": "code",
   "execution_count": null,
   "id": "b98e9c4d-54aa-46ec-85bf-87d13bc9e948",
   "metadata": {},
   "outputs": [],
   "source": [
    "Y_df, val_size, test_size, freq = load_data('ettm1')\n",
    "\n",
    "horizon = 96\n",
    "\n",
    "models = [\n",
    "    RMoK(\n",
    "        h=horizon, \n",
    "        input_size=3*horizon, \n",
    "        n_series=7,\n",
    "        taylor_order=3,\n",
    "        jacobi_degree=6,\n",
    "        wavelet_function='mexican_hat',\n",
    "        max_steps=1000, \n",
    "        early_stop_patience_steps=3),\n",
    "    TSMixer(h=horizon, input_size=3*horizon, n_series=7, max_steps=1000, early_stop_patience_steps=3),\n",
    "    NHITS(h=horizon, input_size=3*horizon, max_steps=1000, early_stop_patience_steps=3),\n",
    "]\n",
    "\n",
    "nf = NeuralForecast(models=models, freq=freq)\n",
    "nf_preds = nf.cross_validation(df=Y_df, val_size=val_size, test_size=test_size, n_windows=None)\n",
    "nf_preds = nf_preds.reset_index()\n",
    "\n",
    "ettm1_evaluation = evaluate(df=nf_preds, metrics=[mae, mse], models=['RMoK', 'TSMixer', 'NHITS'])"
   ]
  },
  {
   "cell_type": "code",
   "execution_count": null,
   "id": "372ded76-3954-432f-995d-2c4e44dd747e",
   "metadata": {},
   "outputs": [],
   "source": [
    "ettm1_evaluation = ettm1_evaluation.drop(['unique_id'], axis=1)\\\n",
    "                                   .groupby('metric')\\\n",
    "                                   .mean()\\\n",
    "                                   .reset_index()\n",
    "\n",
    "ettm1_evaluation"
   ]
  },
  {
   "cell_type": "code",
   "execution_count": null,
   "id": "bbb98245-bef0-4ff2-8bd1-7c18a3aa1f12",
   "metadata": {},
   "outputs": [],
   "source": []
  }
 ],
 "metadata": {
  "kernelspec": {
   "display_name": "Python 3 (ipykernel)",
   "language": "python",
   "name": "python3"
  },
  "language_info": {
   "codemirror_mode": {
    "name": "ipython",
    "version": 3
   },
   "file_extension": ".py",
   "mimetype": "text/x-python",
   "name": "python",
   "nbconvert_exporter": "python",
   "pygments_lexer": "ipython3",
   "version": "3.10.11"
  }
 },
 "nbformat": 4,
 "nbformat_minor": 5
}
