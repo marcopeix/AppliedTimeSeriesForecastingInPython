{
  "nbformat": 4,
  "nbformat_minor": 0,
  "metadata": {
    "colab": {
      "provenance": [],
      "gpuType": "T4"
    },
    "kernelspec": {
      "name": "python3",
      "display_name": "Python 3"
    },
    "language_info": {
      "name": "python"
    },
    "accelerator": "GPU"
  },
  "cells": [
    {
      "cell_type": "code",
      "execution_count": null,
      "metadata": {
        "collapsed": true,
        "id": "NT2xoa_BLZUK"
      },
      "outputs": [],
      "source": [
        "!pip install neuralforecast utilsforecast"
      ]
    },
    {
      "cell_type": "code",
      "source": [
        "import pandas as pd\n",
        "import numpy as np\n",
        "import matplotlib.pyplot as plt\n",
        "\n",
        "from utilsforecast.plotting import plot_series\n",
        "from utilsforecast.evaluation import evaluate\n",
        "from utilsforecast.losses import *\n",
        "\n",
        "from neuralforecast.core import NeuralForecast\n",
        "from neuralforecast.models import MLP, MLPMultivariate\n",
        "from neuralforecast.losses.pytorch import *\n",
        "\n",
        "import warnings\n",
        "warnings.filterwarnings(\"ignore\")"
      ],
      "metadata": {
        "id": "OpT-_mT7NtDu"
      },
      "execution_count": null,
      "outputs": []
    },
    {
      "cell_type": "code",
      "source": [
        "def plot_metrics_bar(eval_df):\n",
        "    methods = eval_df.columns[1:]\n",
        "    values = eval_df.iloc[0].values[1:]\n",
        "\n",
        "    sorted_data = sorted(zip(methods, values), key=lambda x: x[1], reverse=True)\n",
        "    methods_sorted, values_sorted = zip(*sorted_data)\n",
        "\n",
        "    plt.figure(figsize=(10, 6))\n",
        "    bars = plt.bar(methods_sorted, values_sorted)\n",
        "\n",
        "    for bar, value in zip(bars, values_sorted):\n",
        "        plt.text(bar.get_x() + bar.get_width()/2, bar.get_height() + 0.05,\n",
        "                 f'{value:.3f}', ha='center', va='bottom', fontweight='bold')\n",
        "\n",
        "    plt.xlabel('Methods')\n",
        "    plt.ylabel('Mean absolute error (MAE)')\n",
        "    plt.tight_layout()\n",
        "\n",
        "    plt.show()"
      ],
      "metadata": {
        "id": "6gXdGcLVOi4A"
      },
      "execution_count": null,
      "outputs": []
    },
    {
      "cell_type": "code",
      "source": [
        "DATA_URL = \"https://raw.githubusercontent.com/marcopeix/youtube_tutorials/refs/heads/main/data/daily_sales_french_bakery.csv\"\n",
        "df = pd.read_csv(DATA_URL, parse_dates=[\"ds\"])\n",
        "df = df.groupby('unique_id').filter(lambda x: len(x) >= 28)\n",
        "df.head()"
      ],
      "metadata": {
        "id": "6ikO-DCTMRNq"
      },
      "execution_count": null,
      "outputs": []
    },
    {
      "cell_type": "code",
      "source": [
        "plot_series(df=df, ids=[\"BAGUETTE\", \"CROISSANT\"], palette=\"viridis\")"
      ],
      "metadata": {
        "id": "a6NM-BlrN_pY"
      },
      "execution_count": null,
      "outputs": []
    },
    {
      "cell_type": "code",
      "source": [
        "plot_series(df=df, ids=[\"BAGUETTE\", \"CROISSANT\"], max_insample_length=56, palette=\"viridis\")"
      ],
      "metadata": {
        "id": "gxjKSStNODOP"
      },
      "execution_count": null,
      "outputs": []
    },
    {
      "cell_type": "code",
      "source": [
        "unique_ids = [\"BAGUETTE\", \"CROISSANT\"]\n",
        "df = df[df[\"unique_id\"].isin(unique_ids)]"
      ],
      "metadata": {
        "id": "rUw-WYRYOFm9"
      },
      "execution_count": null,
      "outputs": []
    },
    {
      "cell_type": "markdown",
      "source": [
        "## Forecasting and cross-validation"
      ],
      "metadata": {
        "id": "2HdoTMvDONRf"
      }
    },
    {
      "cell_type": "code",
      "source": [
        "HORIZON = 7"
      ],
      "metadata": {
        "id": "huF1bQWFOJQF"
      },
      "execution_count": null,
      "outputs": []
    },
    {
      "cell_type": "code",
      "source": [],
      "metadata": {
        "id": "K7Vb-x3cOq54"
      },
      "execution_count": null,
      "outputs": []
    },
    {
      "cell_type": "code",
      "source": [],
      "metadata": {
        "collapsed": true,
        "id": "h3HXr7VXPl6o"
      },
      "execution_count": null,
      "outputs": []
    },
    {
      "cell_type": "code",
      "source": [
        "last_date = df['ds'].max()\n",
        "future_dates = pd.date_range(start=last_date + pd.Timedelta(days=1), periods=HORIZON, freq='D')\n",
        "\n",
        "# Get the last unit_price for each unique_id\n",
        "last_unit_prices = df.groupby('unique_id')['unit_price'].last()\n",
        "\n",
        "futr_df = []\n",
        "for uid in unique_ids:\n",
        "    last_price = last_unit_prices[uid]\n",
        "    for date in future_dates:\n",
        "        futr_df.append({\n",
        "            'unique_id': uid,\n",
        "            'ds': date,\n",
        "            'unit_price': last_price\n",
        "        })\n",
        "\n",
        "futr_df = pd.DataFrame(futr_df)\n",
        "futr_df"
      ],
      "metadata": {
        "id": "BaxSohlSVj3w"
      },
      "execution_count": null,
      "outputs": []
    },
    {
      "cell_type": "code",
      "source": [],
      "metadata": {
        "collapsed": true,
        "id": "wr2P7GptXugJ"
      },
      "execution_count": null,
      "outputs": []
    },
    {
      "cell_type": "code",
      "source": [
        "plot_series(df=df, forecasts_df=preds, max_insample_length=56, palette=\"viridis\")"
      ],
      "metadata": {
        "id": "-s_MDEm1X94e"
      },
      "execution_count": null,
      "outputs": []
    },
    {
      "cell_type": "markdown",
      "source": [
        "### Cross-validation"
      ],
      "metadata": {
        "id": "bQhTJ4qyYSSo"
      }
    },
    {
      "cell_type": "code",
      "source": [],
      "metadata": {
        "collapsed": true,
        "id": "hkhisU3ZYKqx"
      },
      "execution_count": null,
      "outputs": []
    },
    {
      "cell_type": "code",
      "source": [
        "plot_metrics_bar(evaluation)"
      ],
      "metadata": {
        "id": "cmmH5WnWYpvH"
      },
      "execution_count": null,
      "outputs": []
    },
    {
      "cell_type": "code",
      "source": [
        "plot_series(\n",
        "    df=df,\n",
        "    forecasts_df=cv_df.drop([\"y\", \"cutoff\"], axis=1),\n",
        "    max_insample_length=140,\n",
        "    palette=\"viridis\"\n",
        ")"
      ],
      "metadata": {
        "id": "jvqfppd7rDcX"
      },
      "execution_count": null,
      "outputs": []
    },
    {
      "cell_type": "markdown",
      "source": [
        "## Probabilistic forecasting\n",
        "### Loss function"
      ],
      "metadata": {
        "id": "r9NoR9uXsdWd"
      }
    },
    {
      "cell_type": "code",
      "source": [
        "models = [\n",
        "    MLP(\n",
        "        h=HORIZON,\n",
        "        input_size=14,\n",
        "        futr_exog_list=[\"unit_price\"],\n",
        "        num_layers=2,\n",
        "        hidden_size=1024,\n",
        "        # Set the loss function\n",
        "        max_steps=1000,\n",
        "        early_stop_patience_steps=3,\n",
        "        val_check_steps=100,\n",
        "        scaler_type=\"identity\"\n",
        "        )\n",
        "]\n",
        "\n",
        "nf = NeuralForecast(models=models, freq=\"D\")\n",
        "\n",
        "cv_df_mqloss = nf.cross_validation(\n",
        "    df=df,\n",
        "    step_size=HORIZON,\n",
        "    val_size=HORIZON,\n",
        "    test_size=8*HORIZON,\n",
        "    refit=False,\n",
        "    n_windows=None,\n",
        "    # Set the prediction interval\n",
        ")\n",
        "\n",
        "# Rename column for easier evaluation and plotting\n",
        "\n",
        "\n",
        "cv_df_mqloss.head()"
      ],
      "metadata": {
        "id": "aGyMqESjrjSS"
      },
      "execution_count": null,
      "outputs": []
    },
    {
      "cell_type": "code",
      "source": [
        "metrics = [\n",
        "    scaled_crps\n",
        "]\n",
        "\n",
        "evaluation = evaluate(\n",
        "    cv_df_mqloss.drop([\"ds\", \"cutoff\"], axis=1),\n",
        "    metrics=metrics,\n",
        "    models=[\"MLP\"],\n",
        "    level=[80]\n",
        ")\n",
        "evaluation = evaluation.drop(['unique_id'], axis=1).groupby('metric').mean().reset_index()\n",
        "evaluation"
      ],
      "metadata": {
        "id": "TGVMudedtbmJ"
      },
      "execution_count": null,
      "outputs": []
    },
    {
      "cell_type": "code",
      "source": [
        "plot_series(\n",
        "    df=df,\n",
        "    forecasts_df=cv_df_mqloss.drop([\"y\", \"cutoff\"], axis=1),\n",
        "    # models=[\"MLP\"],\n",
        "    max_insample_length=140,\n",
        "    level=[80],\n",
        "    palette=\"viridis\"\n",
        ")"
      ],
      "metadata": {
        "id": "GLB7JCOzugGM"
      },
      "execution_count": null,
      "outputs": []
    },
    {
      "cell_type": "markdown",
      "source": [
        "### Conformal predictions"
      ],
      "metadata": {
        "id": "cGWPLyw_KeOE"
      }
    },
    {
      "cell_type": "code",
      "source": [
        "from neuralforecast.utils import PredictionIntervals"
      ],
      "metadata": {
        "id": "Q7lNhAnivPGM"
      },
      "execution_count": null,
      "outputs": []
    },
    {
      "cell_type": "code",
      "source": [
        "# Initialize PredictionIntervals()\n",
        "prediction_intervals = PredictionIntervals()\n",
        "\n",
        "models = [\n",
        "    MLP(\n",
        "        h=HORIZON,\n",
        "        input_size=14,\n",
        "        futr_exog_list=[\"unit_price\"],\n",
        "        num_layers=2,\n",
        "        hidden_size=1024,\n",
        "        loss=MAE(),\n",
        "        max_steps=400,\n",
        "        scaler_type=\"identity\"\n",
        "        )\n",
        "]\n",
        "\n",
        "nf = NeuralForecast(models=models, freq=\"D\")\n",
        "\n",
        "cv_df_conformal = nf.cross_validation(\n",
        "    df=df,\n",
        "    step_size=HORIZON,\n",
        "    test_size=8*HORIZON,\n",
        "    refit=True,\n",
        "    n_windows=None,\n",
        "    # Specify prediction intervals\n",
        ")\n",
        "\n",
        "cv_df_conformal.head()"
      ],
      "metadata": {
        "collapsed": true,
        "id": "o1QZEtuoKnia"
      },
      "execution_count": null,
      "outputs": []
    },
    {
      "cell_type": "code",
      "source": [
        "metrics = [\n",
        "    scaled_crps\n",
        "]\n",
        "\n",
        "evaluation = evaluate(\n",
        "    cv_df_conformal.drop([\"ds\", \"cutoff\"], axis=1),\n",
        "    metrics=metrics,\n",
        "    models=[\"MLP\"],\n",
        "    level=[80]\n",
        ")\n",
        "evaluation = evaluation.drop(['unique_id'], axis=1).groupby('metric').mean().reset_index()\n",
        "evaluation"
      ],
      "metadata": {
        "id": "RiYo9exuLDmo"
      },
      "execution_count": null,
      "outputs": []
    },
    {
      "cell_type": "code",
      "source": [
        "plot_series(\n",
        "    df=df,\n",
        "    forecasts_df=cv_df_conformal.drop([\"y\", \"cutoff\"], axis=1),\n",
        "    # models=[\"MLP\"],\n",
        "    max_insample_length=140,\n",
        "    level=[80],\n",
        "    palette=\"viridis\"\n",
        ")"
      ],
      "metadata": {
        "id": "lMJLN-bzMVQL"
      },
      "execution_count": null,
      "outputs": []
    },
    {
      "cell_type": "markdown",
      "source": [
        "## Training on large datasets"
      ],
      "metadata": {
        "id": "7tZrHjoxYCZ0"
      }
    },
    {
      "cell_type": "code",
      "source": [
        "import os"
      ],
      "metadata": {
        "id": "5mK2xzANNxRN"
      },
      "execution_count": null,
      "outputs": []
    },
    {
      "cell_type": "code",
      "source": [
        "# Partion data into multiple parquet files\n"
      ],
      "metadata": {
        "id": "CoH-KDvOdbgO"
      },
      "execution_count": null,
      "outputs": []
    },
    {
      "cell_type": "code",
      "source": [
        "files_list"
      ],
      "metadata": {
        "id": "qRFxEM38eDml"
      },
      "execution_count": null,
      "outputs": []
    },
    {
      "cell_type": "code",
      "source": [
        "models = [\n",
        "    MLP(\n",
        "        h=HORIZON,\n",
        "        input_size=14,\n",
        "        futr_exog_list=[\"unit_price\"],\n",
        "        num_layers=2,\n",
        "        hidden_size=1024,\n",
        "        loss=MAE(),\n",
        "        max_steps=400,\n",
        "        scaler_type=\"identity\"\n",
        "        )\n",
        "]\n",
        "\n",
        "nf = NeuralForecast(models=models, freq=\"D\")\n",
        "nf.fit(df=files_list)"
      ],
      "metadata": {
        "id": "FXVVF0T5eHlb"
      },
      "execution_count": null,
      "outputs": []
    },
    {
      "cell_type": "code",
      "source": [],
      "metadata": {
        "id": "MB3beGHPerqx"
      },
      "execution_count": null,
      "outputs": []
    },
    {
      "cell_type": "code",
      "source": [
        "plot_series(df=df, forecasts_df=preds, max_insample_length=56, palette=\"viridis\")"
      ],
      "metadata": {
        "id": "SmPp-BtIfxlC"
      },
      "execution_count": null,
      "outputs": []
    },
    {
      "cell_type": "markdown",
      "source": [
        "## Hyperparameter optimization"
      ],
      "metadata": {
        "id": "Iueoh9-Yf8hG"
      }
    },
    {
      "cell_type": "code",
      "source": [
        "from ray import tune\n",
        "from ray.tune.search.hyperopt import HyperOptSearch\n",
        "\n",
        "from neuralforecast.auto import AutoMLP"
      ],
      "metadata": {
        "id": "2ue0gkGTf3qk"
      },
      "execution_count": null,
      "outputs": []
    },
    {
      "cell_type": "code",
      "source": [
        "# Define the search space\n"
      ],
      "metadata": {
        "id": "TXeyD8OWvudz"
      },
      "execution_count": null,
      "outputs": []
    },
    {
      "cell_type": "code",
      "source": [
        "# Initialize AutoMLP\n"
      ],
      "metadata": {
        "id": "JT85qeGCwvkl"
      },
      "execution_count": null,
      "outputs": []
    },
    {
      "cell_type": "code",
      "source": [
        "nf = NeuralForecast(models=[model], freq='D')\n",
        "nf.fit(df=df.drop(columns=[\"unit_price\"]), val_size=28)"
      ],
      "metadata": {
        "id": "D10zIW5Jw4ll",
        "collapsed": true
      },
      "execution_count": null,
      "outputs": []
    },
    {
      "cell_type": "code",
      "source": [
        "results = nf.models[0].results.get_dataframe()\n",
        "\n",
        "config_cols = [col for col in results.columns if col.startswith('config')]\n",
        "columns_to_keep = ['loss', 'train_loss'] + config_cols\n",
        "existing_columns = [col for col in columns_to_keep if col in results.columns]\n",
        "filtered_results = results[existing_columns]\n",
        "best_runs = filtered_results.sort_values('loss', ascending=True).head(5)\n",
        "best_runs"
      ],
      "metadata": {
        "id": "iuw7Ou6CxTlH"
      },
      "execution_count": null,
      "outputs": []
    },
    {
      "cell_type": "code",
      "source": [],
      "metadata": {
        "id": "rs5EVeqHyETZ"
      },
      "execution_count": null,
      "outputs": []
    }
  ]
}